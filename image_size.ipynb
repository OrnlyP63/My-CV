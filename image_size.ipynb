{
 "cells": [
  {
   "cell_type": "code",
   "execution_count": 1,
   "metadata": {},
   "outputs": [],
   "source": [
    "from PIL import Image"
   ]
  },
  {
   "cell_type": "code",
   "execution_count": 5,
   "metadata": {},
   "outputs": [],
   "source": [
    "def rotate_and_compress_image(input_path, output_path, angle, quality=85, max_size=(800, 800)):\n",
    "    # Open the image\n",
    "    img = Image.open(input_path)\n",
    "\n",
    "    # Rotate the image\n",
    "    img = img.rotate(angle, expand=True)\n",
    "\n",
    "    # Resize while maintaining aspect ratio\n",
    "    img.thumbnail(max_size)\n",
    "\n",
    "    # Save with compression\n",
    "    img.save(output_path, quality=quality, optimize=True)"
   ]
  },
  {
   "cell_type": "code",
   "execution_count": 9,
   "metadata": {},
   "outputs": [],
   "source": [
    "# Example usage\n",
    "rotate_and_compress_image(\"4.jpg\", \"4_out.jpg\", angle=-90, quality=70, max_size=(800, 800))"
   ]
  },
  {
   "cell_type": "code",
   "execution_count": 10,
   "metadata": {},
   "outputs": [],
   "source": [
    "for i in [1, 2, 3, 4]:\n",
    "    rotate_and_compress_image(f\"{i}.jpg\", f\"{i}_out.jpg\", angle=-90, quality=70, max_size=(800, 800))"
   ]
  }
 ],
 "metadata": {
  "kernelspec": {
   "display_name": "ml",
   "language": "python",
   "name": "python3"
  },
  "language_info": {
   "codemirror_mode": {
    "name": "ipython",
    "version": 3
   },
   "file_extension": ".py",
   "mimetype": "text/x-python",
   "name": "python",
   "nbconvert_exporter": "python",
   "pygments_lexer": "ipython3",
   "version": "3.12.4"
  }
 },
 "nbformat": 4,
 "nbformat_minor": 2
}
